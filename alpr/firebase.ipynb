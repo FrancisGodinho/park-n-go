{
 "cells": [
  {
   "cell_type": "code",
   "execution_count": 1,
   "metadata": {},
   "outputs": [],
   "source": [
    "import firebase_admin\n",
    "from firebase_admin import firestore\n",
    "import os"
   ]
  },
  {
   "cell_type": "code",
   "execution_count": 3,
   "metadata": {},
   "outputs": [],
   "source": [
    "os.environ['GOOGLE_APPLICATION_CREDENTIALS'] = 'cpen-391-ab53e-4274a32d414e.json'\n",
    "firebase_admin.initialize_app()\n",
    "# firebase_admin.get_app()\n",
    "db = firestore.client()"
   ]
  },
  {
   "cell_type": "code",
   "execution_count": 4,
   "metadata": {},
   "outputs": [
    {
     "data": {
      "text/plain": [
       "{'capacity': 300,\n",
       " 'rate': 5,\n",
       " 'currentNumCars': 150,\n",
       " 'name': 'UBC North Parkade'}"
      ]
     },
     "execution_count": 4,
     "metadata": {},
     "output_type": "execute_result"
    }
   ],
   "source": [
    "db.collection('lots').document('jw7d1mNE2Cw1mTG0tzzH').get().to_dict()"
   ]
  },
  {
   "cell_type": "code",
   "execution_count": 5,
   "metadata": {},
   "outputs": [
    {
     "data": {
      "text/plain": [
       "update_time {\n",
       "  seconds: 1648009197\n",
       "  nanos: 827911000\n",
       "}\n",
       "transform_results {\n",
       "  timestamp_value {\n",
       "    seconds: 1648009197\n",
       "    nanos: 801000000\n",
       "  }\n",
       "}"
      ]
     },
     "execution_count": 5,
     "metadata": {},
     "output_type": "execute_result"
    }
   ],
   "source": [
    "db.collection('users').document('nFCRJbEEsSSNssqGHpqn0k044oY2').update(\n",
    "    {'isParking': True, 'startTime': firestore.SERVER_TIMESTAMP, 'lotId': 'jw7d1mNE2Cw1mTG0tzzH'}\n",
    ")"
   ]
  },
  {
   "cell_type": "code",
   "execution_count": null,
   "metadata": {},
   "outputs": [],
   "source": []
  }
 ],
 "metadata": {
  "interpreter": {
   "hash": "0f08a8da2d60557dc9d6c8035408c492cf09806f68f70de1bb99a8e4e26df45a"
  },
  "kernelspec": {
   "display_name": "Python 3.9.10 ('venv': venv)",
   "language": "python",
   "name": "python3"
  },
  "language_info": {
   "codemirror_mode": {
    "name": "ipython",
    "version": 3
   },
   "file_extension": ".py",
   "mimetype": "text/x-python",
   "name": "python",
   "nbconvert_exporter": "python",
   "pygments_lexer": "ipython3",
   "version": "3.9.10"
  },
  "orig_nbformat": 4
 },
 "nbformat": 4,
 "nbformat_minor": 2
}
